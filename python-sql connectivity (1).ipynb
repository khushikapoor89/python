{
 "cells": [
  {
   "cell_type": "code",
   "execution_count": 3,
   "id": "0b7f8866",
   "metadata": {},
   "outputs": [
    {
     "name": "stdout",
     "output_type": "stream",
     "text": [
      "Collecting mysql-connector-python\n",
      "  Obtaining dependency information for mysql-connector-python from https://files.pythonhosted.org/packages/38/b4/44efe46d5aff497b6009e4755a5e26a99fd8fe2769857dffa21fad941767/mysql_connector_python-8.4.0-cp311-cp311-win_amd64.whl.metadata\n",
      "  Downloading mysql_connector_python-8.4.0-cp311-cp311-win_amd64.whl.metadata (2.0 kB)\n",
      "Downloading mysql_connector_python-8.4.0-cp311-cp311-win_amd64.whl (14.5 MB)\n",
      "   ---------------------------------------- 0.0/14.5 MB ? eta -:--:--\n",
      "   ---------------------------------------- 0.0/14.5 MB ? eta -:--:--\n",
      "   ---------------------------------------- 0.0/14.5 MB ? eta -:--:--\n",
      "   ---------------------------------------- 0.1/14.5 MB 469.7 kB/s eta 0:00:31\n",
      "   ---------------------------------------- 0.1/14.5 MB 469.7 kB/s eta 0:00:31\n",
      "   ---------------------------------------- 0.1/14.5 MB 469.7 kB/s eta 0:00:31\n",
      "   ---------------------------------------- 0.1/14.5 MB 610.6 kB/s eta 0:00:24\n",
      "   ---------------------------------------- 0.1/14.5 MB 610.6 kB/s eta 0:00:24\n",
      "    --------------------------------------- 0.3/14.5 MB 853.3 kB/s eta 0:00:17\n",
      "    --------------------------------------- 0.3/14.5 MB 853.3 kB/s eta 0:00:17\n",
      "   - -------------------------------------- 0.4/14.5 MB 946.4 kB/s eta 0:00:15\n",
      "   - -------------------------------------- 0.4/14.5 MB 946.4 kB/s eta 0:00:15\n",
      "   - -------------------------------------- 0.7/14.5 MB 1.2 MB/s eta 0:00:12\n",
      "   - -------------------------------------- 0.7/14.5 MB 1.2 MB/s eta 0:00:12\n",
      "   -- ------------------------------------- 0.7/14.5 MB 1.2 MB/s eta 0:00:12\n",
      "   -- ------------------------------------- 0.9/14.5 MB 1.4 MB/s eta 0:00:10\n",
      "   -- ------------------------------------- 0.9/14.5 MB 1.4 MB/s eta 0:00:10\n",
      "   --- ------------------------------------ 1.2/14.5 MB 1.6 MB/s eta 0:00:09\n",
      "   --- ------------------------------------ 1.2/14.5 MB 1.6 MB/s eta 0:00:09\n",
      "   ---- ----------------------------------- 1.5/14.5 MB 1.8 MB/s eta 0:00:08\n",
      "   ---- ----------------------------------- 1.5/14.5 MB 1.8 MB/s eta 0:00:08\n",
      "   ---- ----------------------------------- 1.8/14.5 MB 1.9 MB/s eta 0:00:07\n",
      "   ---- ----------------------------------- 1.8/14.5 MB 1.9 MB/s eta 0:00:07\n",
      "   ----- ---------------------------------- 2.1/14.5 MB 2.0 MB/s eta 0:00:07\n",
      "   ----- ---------------------------------- 2.1/14.5 MB 2.0 MB/s eta 0:00:07\n",
      "   ------ --------------------------------- 2.4/14.5 MB 2.1 MB/s eta 0:00:06\n",
      "   ------ --------------------------------- 2.4/14.5 MB 2.1 MB/s eta 0:00:06\n",
      "   ------ --------------------------------- 2.5/14.5 MB 2.0 MB/s eta 0:00:07\n",
      "   ------- -------------------------------- 2.8/14.5 MB 2.2 MB/s eta 0:00:06\n",
      "   ------- -------------------------------- 2.8/14.5 MB 2.2 MB/s eta 0:00:06\n",
      "   -------- ------------------------------- 3.2/14.5 MB 2.3 MB/s eta 0:00:05\n",
      "   --------- ------------------------------ 3.5/14.5 MB 2.5 MB/s eta 0:00:05\n",
      "   ---------- ----------------------------- 3.9/14.5 MB 2.7 MB/s eta 0:00:04\n",
      "   ---------- ----------------------------- 3.9/14.5 MB 2.7 MB/s eta 0:00:04\n",
      "   ------------ --------------------------- 4.4/14.5 MB 2.8 MB/s eta 0:00:04\n",
      "   ------------ --------------------------- 4.4/14.5 MB 2.8 MB/s eta 0:00:04\n",
      "   ------------- -------------------------- 4.7/14.5 MB 2.8 MB/s eta 0:00:04\n",
      "   ------------- -------------------------- 4.8/14.5 MB 2.9 MB/s eta 0:00:04\n",
      "   -------------- ------------------------- 5.3/14.5 MB 3.0 MB/s eta 0:00:04\n",
      "   -------------- ------------------------- 5.3/14.5 MB 3.0 MB/s eta 0:00:04\n",
      "   ---------------- ----------------------- 5.8/14.5 MB 3.2 MB/s eta 0:00:03\n",
      "   ----------------- ---------------------- 6.1/14.5 MB 3.2 MB/s eta 0:00:03\n",
      "   ----------------- ---------------------- 6.5/14.5 MB 3.4 MB/s eta 0:00:03\n",
      "   ------------------- -------------------- 7.0/14.5 MB 3.6 MB/s eta 0:00:03\n",
      "   --------------------- ------------------ 7.6/14.5 MB 3.8 MB/s eta 0:00:02\n",
      "   ---------------------- ----------------- 8.2/14.5 MB 4.0 MB/s eta 0:00:02\n",
      "   ---------------------- ----------------- 8.2/14.5 MB 4.0 MB/s eta 0:00:02\n",
      "   ------------------------ --------------- 8.8/14.5 MB 4.0 MB/s eta 0:00:02\n",
      "   ------------------------ --------------- 8.8/14.5 MB 4.1 MB/s eta 0:00:02\n",
      "   -------------------------- ------------- 9.5/14.5 MB 4.2 MB/s eta 0:00:02\n",
      "   -------------------------- ------------- 9.5/14.5 MB 4.2 MB/s eta 0:00:02\n",
      "   --------------------------- ------------ 10.0/14.5 MB 4.2 MB/s eta 0:00:02\n",
      "   ---------------------------- ----------- 10.2/14.5 MB 4.3 MB/s eta 0:00:01\n",
      "   ---------------------------- ----------- 10.2/14.5 MB 4.3 MB/s eta 0:00:01\n",
      "   ------------------------------ --------- 11.0/14.5 MB 5.5 MB/s eta 0:00:01\n",
      "   ------------------------------ --------- 11.0/14.5 MB 5.5 MB/s eta 0:00:01\n",
      "   -------------------------------- ------- 11.7/14.5 MB 6.2 MB/s eta 0:00:01\n",
      "   -------------------------------- ------- 11.7/14.5 MB 6.2 MB/s eta 0:00:01\n",
      "   ---------------------------------- ----- 12.5/14.5 MB 6.6 MB/s eta 0:00:01\n",
      "   ---------------------------------- ----- 12.5/14.5 MB 6.6 MB/s eta 0:00:01\n",
      "   ------------------------------------- -- 13.4/14.5 MB 7.4 MB/s eta 0:00:01\n",
      "   ------------------------------------- -- 13.4/14.5 MB 7.4 MB/s eta 0:00:01\n",
      "   ------------------------------------- -- 13.7/14.5 MB 7.0 MB/s eta 0:00:01\n",
      "   ---------------------------------------  14.3/14.5 MB 7.5 MB/s eta 0:00:01\n",
      "   ---------------------------------------  14.3/14.5 MB 7.5 MB/s eta 0:00:01\n",
      "   ---------------------------------------- 14.5/14.5 MB 6.9 MB/s eta 0:00:00\n",
      "Installing collected packages: mysql-connector-python\n",
      "Successfully installed mysql-connector-python-8.4.0\n",
      "Note: you may need to restart the kernel to use updated packages.\n"
     ]
    }
   ],
   "source": [
    "pip install mysql-connector-python"
   ]
  },
  {
   "cell_type": "code",
   "execution_count": 4,
   "id": "c5cef8da",
   "metadata": {},
   "outputs": [
    {
     "name": "stdout",
     "output_type": "stream",
     "text": [
      "Connection Established\n"
     ]
    }
   ],
   "source": [
    "import mysql.connector\n",
    "mydb=mysql.connector.connect(host='localhost',password='1234',user='root')\n",
    "\n",
    "if mydb.is_connected():\n",
    "   print(\"Connection Established\")"
   ]
  },
  {
   "cell_type": "code",
   "execution_count": 5,
   "id": "0ddb1ef9",
   "metadata": {},
   "outputs": [],
   "source": [
    "mycursor=mydb.cursor()"
   ]
  },
  {
   "cell_type": "code",
   "execution_count": 6,
   "id": "b77643ea",
   "metadata": {},
   "outputs": [
    {
     "name": "stdout",
     "output_type": "stream",
     "text": [
      "('aaft',)\n",
      "('information_schema',)\n",
      "('mysql',)\n",
      "('performance_schema',)\n",
      "('school',)\n",
      "('sys',)\n",
      "('vehicle',)\n"
     ]
    }
   ],
   "source": [
    "mycursor.execute(\"show databases\")\n",
    "for db in mycursor:\n",
    "    print(db)"
   ]
  },
  {
   "cell_type": "code",
   "execution_count": 7,
   "id": "7ef5c91c",
   "metadata": {},
   "outputs": [],
   "source": [
    "import mysql.connector\n",
    "mydb=mysql.connector.connect(host='localhost',password='1234',user='root')\n",
    "mycursor=mydb.cursor()\n",
    "mycursor.execute(\"create database SODS\")"
   ]
  },
  {
   "cell_type": "code",
   "execution_count": 8,
   "id": "f79c068e",
   "metadata": {},
   "outputs": [],
   "source": [
    "import mysql.connector\n",
    "mydb=mysql.connector.connect(host='localhost',password='1234',user='root',database='sods')\n",
    "mycursor=mydb.cursor()\n",
    "t=\"CREATE TABLE Book(bookid int(4),title varchar(20),price float(5,2))\"\n",
    "mycursor.execute(t)"
   ]
  },
  {
   "cell_type": "code",
   "execution_count": 9,
   "id": "feb6b6ce",
   "metadata": {},
   "outputs": [
    {
     "name": "stdout",
     "output_type": "stream",
     "text": [
      "('book',)\n"
     ]
    }
   ],
   "source": [
    "import mysql.connector\n",
    "mydb=mysql.connector.connect(host='localhost',password='1234',user='root',database='sods')\n",
    "mycursor=mydb.cursor()\n",
    "mycursor.execute(\"show tables\")\n",
    "for db in mycursor:\n",
    "    print(db)"
   ]
  },
  {
   "cell_type": "code",
   "execution_count": 10,
   "id": "eee1ff9a",
   "metadata": {},
   "outputs": [],
   "source": [
    "import mysql.connector\n",
    "mydb=mysql.connector.connect(host='localhost',password='1234',user='root',database='sods')\n",
    "mycursor=mydb.cursor()\n",
    "s=\"INSERT INTO book(bookid,title,price) VALUES(%s,%s,%s)\"\n",
    "r1=(1,'Python2',350)\n",
    "mycursor.execute(s,r1)\n",
    "mydb.commit()"
   ]
  },
  {
   "cell_type": "code",
   "execution_count": 11,
   "id": "d12f3562",
   "metadata": {},
   "outputs": [
    {
     "name": "stdout",
     "output_type": "stream",
     "text": [
      "(1, 'Python2', 350.0)\n"
     ]
    }
   ],
   "source": [
    "import mysql.connector\n",
    "mydb=mysql.connector.connect(host='localhost',password='1234',user='root',database='sods')\n",
    "mycursor=mydb.cursor()\n",
    "s=\"SELECT * from book\"\n",
    "mycursor.execute(s)\n",
    "result=mycursor.fetchall()\n",
    "for rec in result:\n",
    "    print(rec)"
   ]
  },
  {
   "cell_type": "code",
   "execution_count": 12,
   "id": "9c6b9428",
   "metadata": {},
   "outputs": [],
   "source": [
    "import mysql.connector\n",
    "mydb=mysql.connector.connect(host='localhost',password='1234',user='root',database='sods')\n",
    "mycursor=mydb.cursor()\n",
    "s=\"INSERT INTO book(bookid,title,price) VALUES(%s,%s,%s)\"\n",
    "r1=(1,'SQL',550)\n",
    "mycursor.execute(s,r1)\n",
    "mydb.commit()"
   ]
  },
  {
   "cell_type": "code",
   "execution_count": 13,
   "id": "6344fb03",
   "metadata": {},
   "outputs": [
    {
     "name": "stdout",
     "output_type": "stream",
     "text": [
      "(1, 'Python2', 350.0)\n",
      "(1, 'SQL', 550.0)\n"
     ]
    }
   ],
   "source": [
    "import mysql.connector\n",
    "mydb=mysql.connector.connect(host='localhost',password='1234',user='root',database='sods')\n",
    "mycursor=mydb.cursor()\n",
    "s=\"SELECT * from book\"\n",
    "mycursor.execute(s)\n",
    "result=mycursor.fetchall()\n",
    "for rec in result:\n",
    "    print(rec)"
   ]
  },
  {
   "cell_type": "code",
   "execution_count": 14,
   "id": "1b5ff5d3",
   "metadata": {},
   "outputs": [],
   "source": [
    "import mysql.connector\n",
    "mydb=mysql.connector.connect(host='localhost',password='1234',user='root',database='sods')\n",
    "mycursor=mydb.cursor()\n",
    "s=\"INSERT INTO book(bookid,title,price) VALUES(%s,%s,%s)\"\n",
    "r1=(1,'ML',450)\n",
    "mycursor.execute(s,r1)\n",
    "mydb.commit()"
   ]
  },
  {
   "cell_type": "code",
   "execution_count": 15,
   "id": "acb5bdaa",
   "metadata": {},
   "outputs": [
    {
     "name": "stdout",
     "output_type": "stream",
     "text": [
      "(1, 'Python2', 350.0)\n",
      "(1, 'SQL', 550.0)\n",
      "(1, 'ML', 450.0)\n"
     ]
    }
   ],
   "source": [
    "import mysql.connector\n",
    "mydb=mysql.connector.connect(host='localhost',password='1234',user='root',database='sods')\n",
    "mycursor=mydb.cursor()\n",
    "s=\"SELECT * from book\"\n",
    "mycursor.execute(s)\n",
    "result=mycursor.fetchall()\n",
    "for rec in result:\n",
    "    print(rec)"
   ]
  },
  {
   "cell_type": "code",
   "execution_count": 16,
   "id": "e6701b44",
   "metadata": {},
   "outputs": [
    {
     "name": "stdout",
     "output_type": "stream",
     "text": [
      "1 Records affected\n"
     ]
    }
   ],
   "source": [
    "import mysql.connector\n",
    "mydb=mysql.connector.connect(host='localhost',password='1234',user='root',database='sods')\n",
    "mycursor=mydb.cursor()\n",
    "s= \"UPDATE book SET price=price+100 WHERE price=350\"\n",
    "mycursor.execute(s)\n",
    "mydb.commit()\n",
    "print(mycursor.rowcount,\"Records affected\")"
   ]
  },
  {
   "cell_type": "code",
   "execution_count": 17,
   "id": "d060e6df",
   "metadata": {},
   "outputs": [
    {
     "name": "stdout",
     "output_type": "stream",
     "text": [
      "(1, 'Python2', 450.0)\n",
      "(1, 'SQL', 550.0)\n",
      "(1, 'ML', 450.0)\n"
     ]
    }
   ],
   "source": [
    "import mysql.connector\n",
    "mydb=mysql.connector.connect(host='localhost',password='1234',user='root',database='sods')\n",
    "mycursor=mydb.cursor()\n",
    "s=\"SELECT * from book\"\n",
    "mycursor.execute(s)\n",
    "result=mycursor.fetchall()\n",
    "for rec in result:\n",
    "    print(rec)"
   ]
  },
  {
   "cell_type": "code",
   "execution_count": 18,
   "id": "4d8e0a5a",
   "metadata": {},
   "outputs": [],
   "source": [
    "import mysql.connector\n",
    "mydb=mysql.connector.connect(host='localhost',password='1234',user='root',database='sods')\n",
    "mycursor=mydb.cursor()\n",
    "s=\"DELETE FROM book WHERE price=450\"\n",
    "mycursor.execute(s)\n",
    "mydb.commit()"
   ]
  },
  {
   "cell_type": "code",
   "execution_count": 19,
   "id": "57724f9c",
   "metadata": {},
   "outputs": [
    {
     "name": "stdout",
     "output_type": "stream",
     "text": [
      "(1, 'SQL', 550.0)\n"
     ]
    }
   ],
   "source": [
    "import mysql.connector\n",
    "mydb=mysql.connector.connect(host='localhost',password='1234',user='root',database='sods')\n",
    "mycursor=mydb.cursor()\n",
    "s=\"SELECT * from book\"\n",
    "mycursor.execute(s)\n",
    "result=mycursor.fetchall()\n",
    "for rec in result:\n",
    "    print(rec)"
   ]
  },
  {
   "cell_type": "code",
   "execution_count": null,
   "id": "869c90f0",
   "metadata": {},
   "outputs": [],
   "source": []
  }
 ],
 "metadata": {
  "kernelspec": {
   "display_name": "Python 3 (ipykernel)",
   "language": "python",
   "name": "python3"
  },
  "language_info": {
   "codemirror_mode": {
    "name": "ipython",
    "version": 3
   },
   "file_extension": ".py",
   "mimetype": "text/x-python",
   "name": "python",
   "nbconvert_exporter": "python",
   "pygments_lexer": "ipython3",
   "version": "3.11.5"
  }
 },
 "nbformat": 4,
 "nbformat_minor": 5
}
